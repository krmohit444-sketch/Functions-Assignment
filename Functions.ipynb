{
  "nbformat": 4,
  "nbformat_minor": 0,
  "metadata": {
    "colab": {
      "provenance": []
    },
    "kernelspec": {
      "name": "python3",
      "display_name": "Python 3"
    },
    "language_info": {
      "name": "python"
    }
  },
  "cells": [
    {
      "cell_type": "markdown",
      "source": [
        "# **Assignment : Functions**"
      ],
      "metadata": {
        "id": "8p3eBwuKqHxW"
      }
    },
    {
      "cell_type": "markdown",
      "source": [
        " 1. What is the difference between a function and a method in Python?\n",
        "  \n",
        "  => Function vs Method (Python)\n",
        "\n",
        "  Function: A callable defined with def (or lambda) that isn’t bound to an object.\n",
        "\n",
        "  Method: A function that is bound to an object and typically takes self (instance) or cls (class) as the first parameter.\n",
        "  \n",
        "  Example:\n",
        "  \n",
        "  def add(a, b):           # function\n",
        "    return a + b\n",
        "\n",
        " class Calc:\n",
        "    def add(self, a, b): # method (bound to an instance)\n",
        "        return a + b\n",
        "\n",
        " 2. Explain the concept of function arguments and parameters in Python.\n",
        "   \n",
        "   =>Arguments vs Parameters\n",
        "\n",
        " Parameters are the names in a function definition.\n",
        "\n",
        " Arguments are the actual values you pass when calling.\n",
        "Python supports positional, keyword, default, *args, and **kwargs.\n",
        "\n",
        " Example:\n",
        "\n",
        " def greet(name, title=\"Mr./Ms.\", *hobbies, **meta):  # parameters\n",
        "    return f\"{title} {name}\", hobbies, meta\n",
        "\n",
        " greet(\"Mohit\", meta={\"city\": \"Siwan\"})               # arguments\n",
        "\n",
        " 3. What are the different ways to define and call a function in Python?\n",
        "\n",
        "  =>  Define: def, or a single-expression lambda.\n",
        "\n",
        " Call: positional/keyword args, and argument unpacking with */**.\n",
        "\n",
        " Examples:\n",
        "\n",
        " def area(w, h): return w*h\n",
        " perimeter = lambda w, h: 2*(w+h)\n",
        "\n",
        " area(5, 4)                    # positional\n",
        " area(h=4, w=5)                # keyword\n",
        " dims = (5, 4); area(*dims)    # unpack tuple\n",
        " opts = {\"w\": 5, \"h\": 4}; area(**opts)  # unpack dict\n",
        "\n",
        "4. What is the purpose of the `return` statement in a Python function?\n",
        "\n",
        " => Purpose of return\n",
        "\n",
        " Ends the function and sends a value back. Without return, the function returns None. You can “return multiple values” via a tuple.\n",
        "\n",
        " Example:\n",
        "\n",
        " def stats(nums):\n",
        "    return min(nums), max(nums), sum(nums)/len(nums)  # tuple packing\n",
        "\n",
        "5. What are iterators in Python and how do they differ from iterables?\n",
        "\n",
        "  => Iterables vs Iterators\n",
        "\n",
        " Iterable: An object you can loop over; it implements __iter__() returning an  iterator (e.g., list, tuple, str).\n",
        "\n",
        " Iterator: Has __next__() to yield the next item and __iter__() returning itself; gets consumed as you iterate.\n",
        "\n",
        " Example:\n",
        "\n",
        " nums = [1, 2, 3]          # iterable\n",
        " it = iter(nums)           # iterator\n",
        " next(it), next(it)        # 1, 2\n",
        "\n",
        "6. Explain the concept of generators in Python and how they are defined.\n",
        "\n",
        " => Generators are lazy iterators defined with yield or via a generator expression. They produce values on demand and keep their internal state between yields.\n",
        "\n",
        " Example:\n",
        "\n",
        " def countdown(n):\n",
        "    while n > 0:\n",
        "        yield n\n",
        "        n -= 1\n",
        "\n",
        " gen = (x*x for x in range(5))  # generator expression\n",
        "\n",
        "7. What are the advantages of using generators over regular functions?\n",
        "\n",
        "  => Advantages of generators\n",
        "\n",
        " Memory-efficient (don’t store the whole sequence).\n",
        "\n",
        " Lazy (faster start-up, can model infinite streams).\n",
        "\n",
        " Clean state management without classes.\n",
        "Example: Streaming large file lines with a generator avoids loading all lines at once.\n",
        "\n",
        "8. What is a lambda function in Python and when is it typically used?\n",
        "\n",
        " => Lambda function & typical use\n",
        "Anonymous, single-expression function—great for short throwaway callables (e.g., sorting keys, mapping).\n",
        "\n",
        " Example:\n",
        "\n",
        " sorted_words = sorted([\"apple\",\"kiwi\",\"banana\"], key=lambda s: len(s))\n",
        "\n",
        "9. Explain the purpose and usage of the `map()` function in Python.\n",
        "\n",
        "  => Purpose/usage of map()\n",
        " Applies a function to each item (or items across multiple iterables) and returns a lazy iterator of results.\n",
        "\n",
        " Example:\n",
        "\n",
        " squares = map(lambda x: x*x, [1,2,3])  # iterator of 1,4,9\n",
        " list(squares)\n",
        "\n",
        "10. What is the difference between `map()`, `reduce()`, and `filter()` functions in Python?\n",
        "\n",
        "  => Difference: map(), reduce(), filter()\n",
        "\n",
        " map(f, seq) → transforms each element with f.\n",
        "\n",
        " filter(pred, seq) → keeps elements where pred(x) is True.\n",
        "\n",
        " reduce(f, seq) → aggregates into a single value by repeatedly combining; from functools.\n",
        "\n",
        " Example:\n",
        "\n",
        " from functools import reduce\n",
        " nums = [1,2,3,4]\n",
        " list(map(lambda x: x*2, nums))              # [2,4,6,8]\n",
        " list(filter(lambda x: x%2==0, nums))        # [2,4]\n",
        " reduce(lambda a,b: a+b, nums, 0)            # 10\n",
        "\n",
        "11. Using pen & Paper write the internal mechanism for sum operation using  reduce function on this given list:[47,11,42,13]."
      ],
      "metadata": {
        "id": "LozkfX4wqwW7"
      }
    },
    {
      "cell_type": "markdown",
      "source": [
        "![ans.jpg](data:image/jpeg;base64,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)"
      ],
      "metadata": {
        "id": "BfqFWqYB2IRy"
      }
    },
    {
      "cell_type": "markdown",
      "source": [
        "# **Practical Questions**"
      ],
      "metadata": {
        "id": "SvY90bMd3EUi"
      }
    },
    {
      "cell_type": "code",
      "execution_count": 4,
      "metadata": {
        "colab": {
          "base_uri": "https://localhost:8080/"
        },
        "id": "DdzbjgRfp0RU",
        "outputId": "32f64794-a4a5-4155-ac6c-c4455704ffa0"
      },
      "outputs": [
        {
          "output_type": "stream",
          "name": "stdout",
          "text": [
            "16\n"
          ]
        }
      ],
      "source": [
        "# 1. Write a Python function that takes a list of numbers as input and returns the sum of all even numbers in the list.\n",
        "\n",
        "def sum_evens(nums):\n",
        "    return sum(n for n in nums if n % 2 == 0)\n",
        "\n",
        "# Example\n",
        "print(sum_evens([1,2,3,4,10]))\n"
      ]
    },
    {
      "cell_type": "code",
      "source": [
        " # 2. Create a Python function that accepts a string and returns the reverse of that string.\n",
        "\n",
        " def reverse_str(s):\n",
        "    return s[::-1]\n",
        "\n",
        "print(reverse_str(\"Hello\"))\n"
      ],
      "metadata": {
        "colab": {
          "base_uri": "https://localhost:8080/"
        },
        "id": "Uk6cgcIM-NGe",
        "outputId": "f5b11974-5709-4f9b-a309-8c93a2e79958"
      },
      "execution_count": 5,
      "outputs": [
        {
          "output_type": "stream",
          "name": "stdout",
          "text": [
            "olleH\n"
          ]
        }
      ]
    },
    {
      "cell_type": "code",
      "source": [
        "# 3. Implement a Python function that takes a list of integers and returns a new list containing the squares of each number.\n",
        "\n",
        "def squares(nums):\n",
        "    return [n*n for n in nums]\n",
        "\n",
        "print(squares([1,2,3]))\n"
      ],
      "metadata": {
        "colab": {
          "base_uri": "https://localhost:8080/"
        },
        "id": "yT7OCCXP-u10",
        "outputId": "2e4b374b-bbdc-4454-bf90-0885c8292897"
      },
      "execution_count": 6,
      "outputs": [
        {
          "output_type": "stream",
          "name": "stdout",
          "text": [
            "[1, 4, 9]\n"
          ]
        }
      ]
    },
    {
      "cell_type": "code",
      "source": [
        "# 4. Write a Python function that checks if a given number is prime or not from 1 to 200.\n",
        "\n",
        "def is_prime(n):\n",
        "    if n < 2:\n",
        "        return False\n",
        "    if n % 2 == 0:\n",
        "        return n == 2\n",
        "    i = 3\n",
        "    while i*i <= n:\n",
        "        if n % i == 0:\n",
        "            return False\n",
        "        i += 2\n",
        "    return True\n",
        "\n",
        "primes_1_to_200 = [n for n in range(1, 201) if is_prime(n)]\n",
        "print(primes_1_to_200)\n"
      ],
      "metadata": {
        "colab": {
          "base_uri": "https://localhost:8080/"
        },
        "id": "FkT7Y-cm_Ecn",
        "outputId": "591bd7bd-d7f4-45cc-fa1e-20db888e2ebb"
      },
      "execution_count": 7,
      "outputs": [
        {
          "output_type": "stream",
          "name": "stdout",
          "text": [
            "[2, 3, 5, 7, 11, 13, 17, 19, 23, 29, 31, 37, 41, 43, 47, 53, 59, 61, 67, 71, 73, 79, 83, 89, 97, 101, 103, 107, 109, 113, 127, 131, 137, 139, 149, 151, 157, 163, 167, 173, 179, 181, 191, 193, 197, 199]\n"
          ]
        }
      ]
    },
    {
      "cell_type": "code",
      "source": [
        "# 5. Create an iterator class in Python that generates the Fibonacci sequence up to a specified number of terms.\n",
        "\n",
        "class Fib:\n",
        "    def __init__(self, n_terms):\n",
        "        self.n = n_terms\n",
        "        self.i = 0\n",
        "        self.a, self.b = 0, 1\n",
        "\n",
        "    def __iter__(self):\n",
        "        return self\n",
        "\n",
        "    def __next__(self):\n",
        "        if self.i >= self.n:\n",
        "            raise StopIteration\n",
        "        if self.i == 0:\n",
        "            self.i += 1\n",
        "            return 0\n",
        "        elif self.i == 1:\n",
        "            self.i += 1\n",
        "            return 1\n",
        "        else:\n",
        "            self.a, self.b = self.b, self.a + self.b\n",
        "            self.i += 1\n",
        "            return self.b\n",
        "\n",
        "print(list(Fib(10)))  # first 10 terms\n"
      ],
      "metadata": {
        "colab": {
          "base_uri": "https://localhost:8080/"
        },
        "id": "YHQcndPF_UR-",
        "outputId": "c9c8af4a-9359-4ec9-c5d0-06c727156cae"
      },
      "execution_count": 8,
      "outputs": [
        {
          "output_type": "stream",
          "name": "stdout",
          "text": [
            "[0, 1, 1, 2, 3, 5, 8, 13, 21, 34]\n"
          ]
        }
      ]
    },
    {
      "cell_type": "code",
      "source": [
        "# 6. Write a generator function in Python that yields the powers of 2 up to a given exponent.\n",
        "\n",
        "def powers_of_two(exp):\n",
        "    # yields 2^0, 2^1, ..., 2^exp\n",
        "    val = 1\n",
        "    for _ in range(exp + 1):\n",
        "        yield val\n",
        "        val *= 2\n",
        "\n",
        "print(list(powers_of_two(5)))\n"
      ],
      "metadata": {
        "colab": {
          "base_uri": "https://localhost:8080/"
        },
        "id": "O-AcZCKT_l4E",
        "outputId": "f77cae61-507f-4e76-981c-9095e99de929"
      },
      "execution_count": 9,
      "outputs": [
        {
          "output_type": "stream",
          "name": "stdout",
          "text": [
            "[1, 2, 4, 8, 16, 32]\n"
          ]
        }
      ]
    },
    {
      "cell_type": "code",
      "source": [
        "# 7. Implement a generator function that reads a file line by line and yields each line as a string.\n",
        "\n",
        "def read_lines(path):\n",
        "    with open(path, \"r\", encoding=\"utf-8\") as f:\n",
        "        for line in f:\n",
        "            yield line.rstrip(\"\\n\")\n",
        "\n",
        "# Example Usage (you can create a dummy file to test this)\n",
        "# with open(\"test.txt\", \"w\") as f:\n",
        "#     f.write(\"Line 1\\n\")\n",
        "#     f.write(\"Line 2\\n\")\n",
        "#     f.write(\"Line 3\\n\")\n",
        "#\n",
        "# for line in read_lines(\"test.txt\"):\n",
        "#     print(line)"
      ],
      "metadata": {
        "id": "o3cBWvDzIKXt"
      },
      "execution_count": 19,
      "outputs": []
    },
    {
      "cell_type": "code",
      "source": [
        "# 8. Use a lambda function in Python to sort a list of tuples based on the second element of each tuple.\n",
        "\n",
        "data = [(\"a\", 3), (\"b\", 1), (\"c\", 2)]\n",
        "sorted_data = sorted(data, key=lambda t: t[1])\n",
        "print(sorted_data)\n"
      ],
      "metadata": {
        "colab": {
          "base_uri": "https://localhost:8080/"
        },
        "id": "by46dBVhI3RD",
        "outputId": "44226ded-c9b8-49d5-a304-5d9148ef34f3"
      },
      "execution_count": 21,
      "outputs": [
        {
          "output_type": "stream",
          "name": "stdout",
          "text": [
            "[('b', 1), ('c', 2), ('a', 3)]\n"
          ]
        }
      ]
    },
    {
      "cell_type": "code",
      "source": [
        " # 9. Write a Python program that uses `map()` to convert a list of temperatures from Celsius to Fahrenheit.\n",
        "\n",
        " def c_to_f(c):\n",
        "    return c * 9/5 + 32\n",
        "\n",
        "c_list = [0, 20, 37, 100]\n",
        "f_list = list(map(c_to_f, c_list))\n",
        "print(f_list)\n"
      ],
      "metadata": {
        "colab": {
          "base_uri": "https://localhost:8080/"
        },
        "id": "qhD5O6kwJJV6",
        "outputId": "22262bdf-de75-45a4-db19-950a7e3e3fd8"
      },
      "execution_count": 22,
      "outputs": [
        {
          "output_type": "stream",
          "name": "stdout",
          "text": [
            "[32.0, 68.0, 98.6, 212.0]\n"
          ]
        }
      ]
    },
    {
      "cell_type": "code",
      "source": [
        "# 10. Create a Python program that uses `filter()` to remove all the vowels from a given string.\n",
        "\n",
        "def remove_vowels(s):\n",
        "    vowels = set(\"aeiouAEIOU\")\n",
        "    return \"\".join(filter(lambda ch: ch not in vowels, s))\n",
        "\n",
        "print(remove_vowels(\"Beautiful Day\"))\n"
      ],
      "metadata": {
        "colab": {
          "base_uri": "https://localhost:8080/"
        },
        "id": "nvUL9UNVJXeW",
        "outputId": "38589117-bc26-49bd-dc5c-f585a049eee2"
      },
      "execution_count": 23,
      "outputs": [
        {
          "output_type": "stream",
          "name": "stdout",
          "text": [
            "Btfl Dy\n"
          ]
        }
      ]
    },
    {
      "cell_type": "code",
      "source": [
        "# 11\n",
        "orders = [\n",
        "    [34587, \"Learning Python\",        4,  40.95],\n",
        "    [98762, \"Programming in C\",       3,  19.99],\n",
        "    [77226, \"Head First Java\",        1,  59.99],\n",
        "    [88112, \"Automate the Boring...\", 1,  45.00]\n",
        "]\n",
        "\n",
        "result = list(map(\n",
        "    lambda rec: (rec[0], rec[2]*rec[3] if rec[2]*rec[3] >= 100 else rec[2]*rec[3] + 10.0),\n",
        "    orders\n",
        "))\n",
        "print(result)\n"
      ],
      "metadata": {
        "colab": {
          "base_uri": "https://localhost:8080/"
        },
        "id": "VyOpJluiKEPM",
        "outputId": "5803b5c6-fa87-4760-a4e3-48e2d65b8ebd"
      },
      "execution_count": 25,
      "outputs": [
        {
          "output_type": "stream",
          "name": "stdout",
          "text": [
            "[(34587, 163.8), (98762, 69.97), (77226, 69.99000000000001), (88112, 55.0)]\n"
          ]
        }
      ]
    }
  ]
}